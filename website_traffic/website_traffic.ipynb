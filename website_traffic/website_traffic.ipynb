{
 "cells": [
  {
   "cell_type": "code",
   "execution_count": 67,
   "id": "85e5e7b2-ba5a-4f75-8f9d-4864f64d523a",
   "metadata": {},
   "outputs": [],
   "source": [
    "import pandas as pd\n",
    "import numpy as np\n",
    "from sklearn.model_selection import train_test_split\n",
    "from sklearn.preprocessing import MinMaxScaler\n",
    "from tensorflow.keras.models import Sequential\n",
    "from tensorflow.keras.layers import Dense, Input\n",
    "from tensorflow.keras.optimizers import Adam\n",
    "from sklearn.metrics import mean_absolute_error, mean_squared_error"
   ]
  },
  {
   "cell_type": "code",
   "execution_count": 68,
   "id": "2d3842ef-e4e9-4c23-b40a-18448c4ebdd0",
   "metadata": {},
   "outputs": [
    {
     "name": "stdout",
     "output_type": "stream",
     "text": [
      "           Date  Visits\n",
      "0    01-01-2020    1554\n",
      "1    01-02-2020    2820\n",
      "2    01-03-2020    2970\n",
      "3    01-04-2020    2111\n",
      "4    01-05-2020    2393\n",
      "..          ...     ...\n",
      "227   8/15/2020    2221\n",
      "228   8/16/2020    2724\n",
      "229   8/17/2020    3456\n",
      "230   8/18/2020    3581\n",
      "231   8/19/2020    2064\n",
      "\n",
      "[232 rows x 2 columns]\n"
     ]
    }
   ],
   "source": [
    "# Load and preprocess dataset\n",
    "df = pd.read_csv('traffic.csv', parse_dates=['Date'])\n",
    "df.sort_values('Date', inplace=True)\n",
    "\n",
    "print(df)"
   ]
  },
  {
   "cell_type": "code",
   "execution_count": 69,
   "id": "738b4e09-9dc4-4c6c-86c6-df9c3178941b",
   "metadata": {},
   "outputs": [
    {
     "name": "stdout",
     "output_type": "stream",
     "text": [
      "           Date    Visits\n",
      "0    01-01-2020  0.000000\n",
      "1    01-02-2020  0.247992\n",
      "2    01-03-2020  0.277375\n",
      "3    01-04-2020  0.109109\n",
      "4    01-05-2020  0.164349\n",
      "..          ...       ...\n",
      "227   8/15/2020  0.130656\n",
      "228   8/16/2020  0.229187\n",
      "229   8/17/2020  0.372576\n",
      "230   8/18/2020  0.397062\n",
      "231   8/19/2020  0.099902\n",
      "\n",
      "[232 rows x 2 columns]\n"
     ]
    }
   ],
   "source": [
    "# Normalize Visits\n",
    "scaler = MinMaxScaler()\n",
    "df['Visits'] = scaler.fit_transform(df[['Visits']])\n",
    "\n",
    "print(df)"
   ]
  },
  {
   "cell_type": "code",
   "execution_count": 70,
   "id": "6cfdfb30-a202-4fba-a357-4bed2a80f923",
   "metadata": {},
   "outputs": [
    {
     "name": "stdout",
     "output_type": "stream",
     "text": [
      "           Date    Visits     lag_1     lag_2     lag_3     lag_4     lag_5  \\\n",
      "7    01-08-2020  0.419980  0.432125  0.421156  0.164349  0.109109  0.277375   \n",
      "8    01-09-2020  0.526738  0.419980  0.432125  0.421156  0.164349  0.109109   \n",
      "9    01-10-2020  0.317924  0.526738  0.419980  0.432125  0.421156  0.164349   \n",
      "10   01-11-2020  0.158080  0.317924  0.526738  0.419980  0.432125  0.421156   \n",
      "11   01-12-2020  0.236631  0.158080  0.317924  0.526738  0.419980  0.432125   \n",
      "..          ...       ...       ...       ...       ...       ...       ...   \n",
      "227   8/15/2020  0.130656  0.277571  0.404897  0.284231  0.361019  0.460137   \n",
      "228   8/16/2020  0.229187  0.130656  0.277571  0.404897  0.284231  0.361019   \n",
      "229   8/17/2020  0.372576  0.229187  0.130656  0.277571  0.404897  0.284231   \n",
      "230   8/18/2020  0.397062  0.372576  0.229187  0.130656  0.277571  0.404897   \n",
      "231   8/19/2020  0.099902  0.397062  0.372576  0.229187  0.130656  0.277571   \n",
      "\n",
      "        lag_6     lag_7  \n",
      "7    0.247992  0.000000  \n",
      "8    0.277375  0.247992  \n",
      "9    0.109109  0.277375  \n",
      "10   0.164349  0.109109  \n",
      "11   0.421156  0.164349  \n",
      "..        ...       ...  \n",
      "227  0.438981  0.479334  \n",
      "228  0.460137  0.438981  \n",
      "229  0.361019  0.460137  \n",
      "230  0.284231  0.361019  \n",
      "231  0.404897  0.284231  \n",
      "\n",
      "[225 rows x 9 columns]\n"
     ]
    }
   ],
   "source": [
    "# Create lag features\n",
    "def create_lag_features(data, lag=7):\n",
    "    for i in range(1, lag + 1):\n",
    "        data[f'lag_{i}'] = data['Visits'].shift(i)\n",
    "    return data\n",
    "\n",
    "lag_count = 7\n",
    "df = create_lag_features(df, lag_count)\n",
    "df.dropna(inplace=True)\n",
    "\n",
    "print(df)"
   ]
  },
  {
   "cell_type": "code",
   "execution_count": 71,
   "id": "4e61359f-669c-4619-b16b-5ddc370a89dd",
   "metadata": {},
   "outputs": [
    {
     "name": "stdout",
     "output_type": "stream",
     "text": [
      "        lag_1     lag_2     lag_3     lag_4     lag_5     lag_6     lag_7\n",
      "7    0.432125  0.421156  0.164349  0.109109  0.277375  0.247992  0.000000\n",
      "8    0.419980  0.432125  0.421156  0.164349  0.109109  0.277375  0.247992\n",
      "9    0.526738  0.419980  0.432125  0.421156  0.164349  0.109109  0.277375\n",
      "10   0.317924  0.526738  0.419980  0.432125  0.421156  0.164349  0.109109\n",
      "11   0.158080  0.317924  0.526738  0.419980  0.432125  0.421156  0.164349\n",
      "..        ...       ...       ...       ...       ...       ...       ...\n",
      "227  0.277571  0.404897  0.284231  0.361019  0.460137  0.438981  0.479334\n",
      "228  0.130656  0.277571  0.404897  0.284231  0.361019  0.460137  0.438981\n",
      "229  0.229187  0.130656  0.277571  0.404897  0.284231  0.361019  0.460137\n",
      "230  0.372576  0.229187  0.130656  0.277571  0.404897  0.284231  0.361019\n",
      "231  0.397062  0.372576  0.229187  0.130656  0.277571  0.404897  0.284231\n",
      "\n",
      "[225 rows x 7 columns] 7      0.419980\n",
      "8      0.526738\n",
      "9      0.317924\n",
      "10     0.158080\n",
      "11     0.236631\n",
      "         ...   \n",
      "227    0.130656\n",
      "228    0.229187\n",
      "229    0.372576\n",
      "230    0.397062\n",
      "231    0.099902\n",
      "Name: Visits, Length: 225, dtype: float64\n"
     ]
    }
   ],
   "source": [
    "# Define inputs and outputs\n",
    "X = df.drop(columns=['Date', 'Visits'])\n",
    "y = df['Visits']\n",
    "\n",
    "# Define splits\n",
    "splits = {'70/30': 0.7, '80/20': 0.8, '90/10': 0.9}\n",
    "results = {}\n",
    "\n",
    "print(X,y)"
   ]
  },
  {
   "cell_type": "code",
   "execution_count": 72,
   "id": "74127ba6-d239-4a18-a24c-bd3cffde5ec7",
   "metadata": {},
   "outputs": [
    {
     "name": "stdout",
     "output_type": "stream",
     "text": [
      "\u001b[1m3/3\u001b[0m \u001b[32m━━━━━━━━━━━━━━━━━━━━\u001b[0m\u001b[37m\u001b[0m \u001b[1m0s\u001b[0m 8ms/step \n",
      "\u001b[1m2/2\u001b[0m \u001b[32m━━━━━━━━━━━━━━━━━━━━\u001b[0m\u001b[37m\u001b[0m \u001b[1m0s\u001b[0m 23ms/step\n",
      "\u001b[1m1/1\u001b[0m \u001b[32m━━━━━━━━━━━━━━━━━━━━\u001b[0m\u001b[37m\u001b[0m \u001b[1m0s\u001b[0m 27ms/step\n"
     ]
    }
   ],
   "source": [
    "# Loop through splits\n",
    "for split_name, train_ratio in splits.items():\n",
    "    X_train, X_test, y_train, y_test = train_test_split(X, y, train_size=train_ratio, shuffle=False)\n",
    "\n",
    "    # Define neural network\n",
    "    model = Sequential([\n",
    "        Input(shape=(X_train.shape[1],)),  # input_shape - number of features\n",
    "        Dense(64, activation='relu'), \n",
    "        Dense(32, activation='relu'),\n",
    "        Dense(1)  # Predict the target\n",
    "    ])\n",
    "    \n",
    "    model.compile(optimizer=Adam(learning_rate=0.001), loss='mse')\n",
    "    \n",
    "    # Train the model\n",
    "    model.fit(X_train, y_train, epochs=50, batch_size=16, verbose=0)\n",
    "    \n",
    "    # Predictions\n",
    "    y_pred = model.predict(X_test)\n",
    "\n",
    "    y_pred_denormalized = scaler.inverse_transform(y_pred.reshape(-1, 1)).flatten()\n",
    "    y_test_denormalized = scaler.inverse_transform(y_test.values.reshape(-1, 1)).flatten()\n",
    "\n",
    "\n",
    "    y3 = pd.DataFrame(y_pred_denormalized)\n",
    "    y3.to_csv('y_pred_denormalized.csv', index=False)\n",
    "    \n",
    "    y4 = pd.DataFrame(y_test_denormalized)\n",
    "    y4.to_csv('y_test_denormalized.csv', index=False)\n",
    "    \n",
    "    # Calculate metrics\n",
    "    mae = mean_absolute_error(y_test_denormalized, y_pred_denormalized)\n",
    "    rmse = np.sqrt(mean_squared_error(y_test_denormalized, y_pred_denormalized))\n",
    "    mape = np.mean(np.abs((y_test_denormalized - y_pred_denormalized.flatten()) / y_test_denormalized)) * 100\n",
    "    \n",
    "    results[split_name] = {'MAE': mae, 'RMSE': rmse, 'MAPE': mape}"
   ]
  },
  {
   "cell_type": "code",
   "execution_count": 73,
   "id": "6a84918a-5ba4-480e-9ff6-e8423192939a",
   "metadata": {},
   "outputs": [
    {
     "name": "stdout",
     "output_type": "stream",
     "text": [
      "70/30:\n",
      "  MAE: 397.2704\n",
      "  RMSE: 519.4570\n",
      "  MAPE: 11.3107\n",
      "80/20:\n",
      "  MAE: 480.7700\n",
      "  RMSE: 634.7644\n",
      "  MAPE: 15.7250\n",
      "90/10:\n",
      "  MAE: 441.7253\n",
      "  RMSE: 577.0600\n",
      "  MAPE: 15.5746\n"
     ]
    }
   ],
   "source": [
    "# Display results\n",
    "for split, metrics in results.items():\n",
    "    print(f\"{split}:\")\n",
    "    for metric, value in metrics.items():\n",
    "        print(f\"  {metric}: {value:.4f}\")"
   ]
  }
 ],
 "metadata": {
  "kernelspec": {
   "display_name": "Python (py3-test)",
   "language": "python",
   "name": "py3-test"
  },
  "language_info": {
   "codemirror_mode": {
    "name": "ipython",
    "version": 3
   },
   "file_extension": ".py",
   "mimetype": "text/x-python",
   "name": "python",
   "nbconvert_exporter": "python",
   "pygments_lexer": "ipython3",
   "version": "3.12.3"
  }
 },
 "nbformat": 4,
 "nbformat_minor": 5
}
